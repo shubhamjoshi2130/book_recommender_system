{
 "cells": [
  {
   "cell_type": "code",
   "execution_count": 1,
   "id": "77dc6f85",
   "metadata": {
    "execution": {
     "iopub.execute_input": "2023-05-22T09:25:39.012205Z",
     "iopub.status.busy": "2023-05-22T09:25:39.011496Z",
     "iopub.status.idle": "2023-05-22T09:25:51.659314Z",
     "shell.execute_reply": "2023-05-22T09:25:51.658110Z"
    },
    "papermill": {
     "duration": 12.659367,
     "end_time": "2023-05-22T09:25:51.662113",
     "exception": false,
     "start_time": "2023-05-22T09:25:39.002746",
     "status": "completed"
    },
    "tags": []
   },
   "outputs": [
    {
     "name": "stdout",
     "output_type": "stream",
     "text": [
      "Collecting surprise\r\n",
      "  Downloading surprise-0.1-py2.py3-none-any.whl (1.8 kB)\r\n",
      "Requirement already satisfied: scikit-surprise in /opt/conda/lib/python3.10/site-packages (from surprise) (1.1.3)\r\n",
      "Requirement already satisfied: numpy>=1.17.3 in /opt/conda/lib/python3.10/site-packages (from scikit-surprise->surprise) (1.23.5)\r\n",
      "Requirement already satisfied: joblib>=1.0.0 in /opt/conda/lib/python3.10/site-packages (from scikit-surprise->surprise) (1.2.0)\r\n",
      "Requirement already satisfied: scipy>=1.3.2 in /opt/conda/lib/python3.10/site-packages (from scikit-surprise->surprise) (1.9.3)\r\n",
      "Installing collected packages: surprise\r\n",
      "Successfully installed surprise-0.1\r\n",
      "\u001b[33mWARNING: Running pip as the 'root' user can result in broken permissions and conflicting behaviour with the system package manager. It is recommended to use a virtual environment instead: https://pip.pypa.io/warnings/venv\u001b[0m\u001b[33m\r\n",
      "\u001b[0m"
     ]
    }
   ],
   "source": [
    "!pip install surprise"
   ]
  },
  {
   "cell_type": "code",
   "execution_count": 2,
   "id": "f2dc1112",
   "metadata": {
    "execution": {
     "iopub.execute_input": "2023-05-22T09:25:51.677488Z",
     "iopub.status.busy": "2023-05-22T09:25:51.677046Z",
     "iopub.status.idle": "2023-05-22T09:25:51.682118Z",
     "shell.execute_reply": "2023-05-22T09:25:51.681093Z"
    },
    "papermill": {
     "duration": 0.015489,
     "end_time": "2023-05-22T09:25:51.684396",
     "exception": false,
     "start_time": "2023-05-22T09:25:51.668907",
     "status": "completed"
    },
    "tags": []
   },
   "outputs": [],
   "source": [
    "# i = 8\n",
    "# j = 9\n",
    "# i + j"
   ]
  },
  {
   "cell_type": "code",
   "execution_count": 3,
   "id": "0191a7c8",
   "metadata": {
    "execution": {
     "iopub.execute_input": "2023-05-22T09:25:51.699229Z",
     "iopub.status.busy": "2023-05-22T09:25:51.698817Z",
     "iopub.status.idle": "2023-05-22T09:25:53.452501Z",
     "shell.execute_reply": "2023-05-22T09:25:53.451502Z"
    },
    "papermill": {
     "duration": 1.764194,
     "end_time": "2023-05-22T09:25:53.455094",
     "exception": false,
     "start_time": "2023-05-22T09:25:51.690900",
     "status": "completed"
    },
    "tags": []
   },
   "outputs": [
    {
     "name": "stderr",
     "output_type": "stream",
     "text": [
      "/opt/conda/lib/python3.10/site-packages/scipy/__init__.py:146: UserWarning: A NumPy version >=1.16.5 and <1.23.0 is required for this version of SciPy (detected version 1.23.5\n",
      "  warnings.warn(f\"A NumPy version >={np_minversion} and <{np_maxversion}\"\n"
     ]
    }
   ],
   "source": [
    "import pandas as pd\n",
    "# import seaborn as sns\n",
    "from matplotlib import pyplot as plt\n",
    "import matplotlib\n",
    "import numpy as np\n",
    "\n",
    "from sklearn.model_selection import GroupKFold\n",
    "from surprise.model_selection import PredefinedKFold\n",
    "# from scipy.stats import permutation_test\n",
    "from sklearn.model_selection import train_test_split\n",
    "from surprise import Dataset, SVD\n",
    "from surprise import Dataset, NormalPredictor, Reader\n",
    "from surprise.model_selection import cross_validate\n",
    "from sklearn import preprocessing\n",
    "import seaborn as sns\n",
    "from sklearn.metrics import cohen_kappa_score, mean_absolute_error , mean_squared_error"
   ]
  },
  {
   "cell_type": "code",
   "execution_count": 4,
   "id": "a45c6cc7",
   "metadata": {
    "execution": {
     "iopub.execute_input": "2023-05-22T09:25:53.469979Z",
     "iopub.status.busy": "2023-05-22T09:25:53.469541Z",
     "iopub.status.idle": "2023-05-22T09:25:53.996531Z",
     "shell.execute_reply": "2023-05-22T09:25:53.995175Z"
    },
    "papermill": {
     "duration": 0.537368,
     "end_time": "2023-05-22T09:25:53.999063",
     "exception": false,
     "start_time": "2023-05-22T09:25:53.461695",
     "status": "completed"
    },
    "tags": []
   },
   "outputs": [
    {
     "name": "stderr",
     "output_type": "stream",
     "text": [
      "/tmp/ipykernel_20/2660216152.py:1: FutureWarning: The error_bad_lines argument has been deprecated and will be removed in a future version. Use on_bad_lines in the future.\n",
      "\n",
      "\n",
      "  books = pd.read_csv(\"/kaggle/input/bookrecommender/BX-Books_small.csv\",encoding='ISO-8859–1',delimiter=\";\",warn_bad_lines=True, error_bad_lines=False)\n",
      "/tmp/ipykernel_20/2660216152.py:1: FutureWarning: The warn_bad_lines argument has been deprecated and will be removed in a future version. Use on_bad_lines in the future.\n",
      "\n",
      "\n",
      "  books = pd.read_csv(\"/kaggle/input/bookrecommender/BX-Books_small.csv\",encoding='ISO-8859–1',delimiter=\";\",warn_bad_lines=True, error_bad_lines=False)\n",
      "Skipping line 6452: expected 8 fields, saw 9\n",
      "Skipping line 43667: expected 8 fields, saw 10\n",
      "\n"
     ]
    }
   ],
   "source": [
    "books = pd.read_csv(\"/kaggle/input/bookrecommender/BX-Books_small.csv\",encoding='ISO-8859–1',delimiter=\";\",warn_bad_lines=True, error_bad_lines=False)"
   ]
  },
  {
   "cell_type": "code",
   "execution_count": 5,
   "id": "305aaace",
   "metadata": {
    "execution": {
     "iopub.execute_input": "2023-05-22T09:25:54.014342Z",
     "iopub.status.busy": "2023-05-22T09:25:54.013940Z",
     "iopub.status.idle": "2023-05-22T09:25:54.779607Z",
     "shell.execute_reply": "2023-05-22T09:25:54.778401Z"
    },
    "papermill": {
     "duration": 0.776991,
     "end_time": "2023-05-22T09:25:54.782860",
     "exception": false,
     "start_time": "2023-05-22T09:25:54.005869",
     "status": "completed"
    },
    "tags": []
   },
   "outputs": [],
   "source": [
    "ratings = pd.read_csv(\"/kaggle/input/bookrecommender/BX-Book-Ratings.csv\",encoding='ISO-8859–1',delimiter=\";\")\n",
    "# books = pd.read_csv(\"BX-Books_small.csv\",encoding='ISO-8859–1',delimiter=\";\")\n",
    "users = pd.read_csv(\"/kaggle/input/bookrecommender/BX-Users.csv\",encoding='ISO-8859–1',delimiter=\";\")"
   ]
  },
  {
   "cell_type": "code",
   "execution_count": 6,
   "id": "cf48e0ec",
   "metadata": {
    "execution": {
     "iopub.execute_input": "2023-05-22T09:25:54.798693Z",
     "iopub.status.busy": "2023-05-22T09:25:54.798305Z",
     "iopub.status.idle": "2023-05-22T09:25:55.129066Z",
     "shell.execute_reply": "2023-05-22T09:25:55.128058Z"
    },
    "papermill": {
     "duration": 0.341565,
     "end_time": "2023-05-22T09:25:55.131610",
     "exception": false,
     "start_time": "2023-05-22T09:25:54.790045",
     "status": "completed"
    },
    "tags": []
   },
   "outputs": [
    {
     "data": {
      "text/plain": [
       "(array([244865.,      0.,      0.,      0.,      0.,    779.,      0.,\n",
       "             0.,      0.,      0.,   1034.,      0.,      0.,      0.,\n",
       "             0.,   2260.,      0.,      0.,      0.,      0.,   3344.,\n",
       "             0.,      0.,      0.,      0.,  17784.,      0.,      0.,\n",
       "             0.,      0.,  14118.,      0.,      0.,      0.,      0.,\n",
       "         29456.,      0.,      0.,      0.,      0.,  38974.,      0.,\n",
       "             0.,      0.,      0.,  24363.,      0.,      0.,      0.,\n",
       "         29832.]),\n",
       " array([ 0. ,  0.2,  0.4,  0.6,  0.8,  1. ,  1.2,  1.4,  1.6,  1.8,  2. ,\n",
       "         2.2,  2.4,  2.6,  2.8,  3. ,  3.2,  3.4,  3.6,  3.8,  4. ,  4.2,\n",
       "         4.4,  4.6,  4.8,  5. ,  5.2,  5.4,  5.6,  5.8,  6. ,  6.2,  6.4,\n",
       "         6.6,  6.8,  7. ,  7.2,  7.4,  7.6,  7.8,  8. ,  8.2,  8.4,  8.6,\n",
       "         8.8,  9. ,  9.2,  9.4,  9.6,  9.8, 10. ]),\n",
       " <BarContainer object of 50 artists>)"
      ]
     },
     "execution_count": 6,
     "metadata": {},
     "output_type": "execute_result"
    },
    {
     "data": {
      "image/png": "[encoded data removed]",
      "text/plain": [
       "<Figure size 640x480 with 1 Axes>"
      ]
     },
     "metadata": {},
     "output_type": "display_data"
    }
   ],
   "source": [
    "plt.hist(ratings['Book-Rating'],bins=50)"
   ]
  },
  {
   "cell_type": "code",
   "execution_count": 7,
   "id": "d5fe3d84",
   "metadata": {
    "execution": {
     "iopub.execute_input": "2023-05-22T09:25:55.148069Z",
     "iopub.status.busy": "2023-05-22T09:25:55.147041Z",
     "iopub.status.idle": "2023-05-22T09:25:55.478237Z",
     "shell.execute_reply": "2023-05-22T09:25:55.477083Z"
    },
    "papermill": {
     "duration": 0.341973,
     "end_time": "2023-05-22T09:25:55.480695",
     "exception": false,
     "start_time": "2023-05-22T09:25:55.138722",
     "status": "completed"
    },
    "tags": []
   },
   "outputs": [
    {
     "data": {
      "text/html": [
       "<div>\n",
       "<style scoped>\n",
       "    .dataframe tbody tr th:only-of-type {\n",
       "        vertical-align: middle;\n",
       "    }\n",
       "\n",
       "    .dataframe tbody tr th {\n",
       "        vertical-align: top;\n",
       "    }\n",
       "\n",
       "    .dataframe thead th {\n",
       "        text-align: right;\n",
       "    }\n",
       "</style>\n",
       "<table border=\"1\" class=\"dataframe\">\n",
       "  <thead>\n",
       "    <tr style=\"text-align: right;\">\n",
       "      <th></th>\n",
       "      <th>ISBN</th>\n",
       "      <th>User-ID</th>\n",
       "      <th>Book-Rating</th>\n",
       "    </tr>\n",
       "  </thead>\n",
       "  <tbody>\n",
       "    <tr>\n",
       "      <th>0</th>\n",
       "      <td>0330299891</td>\n",
       "      <td>1</td>\n",
       "      <td>1</td>\n",
       "    </tr>\n",
       "    <tr>\n",
       "      <th>1</th>\n",
       "      <td>0375404120</td>\n",
       "      <td>1</td>\n",
       "      <td>1</td>\n",
       "    </tr>\n",
       "    <tr>\n",
       "      <th>2</th>\n",
       "      <td>0586045007</td>\n",
       "      <td>1</td>\n",
       "      <td>1</td>\n",
       "    </tr>\n",
       "    <tr>\n",
       "      <th>3</th>\n",
       "      <td>9022906116</td>\n",
       "      <td>2</td>\n",
       "      <td>2</td>\n",
       "    </tr>\n",
       "    <tr>\n",
       "      <th>4</th>\n",
       "      <td>9032803328</td>\n",
       "      <td>1</td>\n",
       "      <td>1</td>\n",
       "    </tr>\n",
       "    <tr>\n",
       "      <th>...</th>\n",
       "      <td>...</td>\n",
       "      <td>...</td>\n",
       "      <td>...</td>\n",
       "    </tr>\n",
       "    <tr>\n",
       "      <th>176600</th>\n",
       "      <td>\\8804501367\\\"\"</td>\n",
       "      <td>1</td>\n",
       "      <td>1</td>\n",
       "    </tr>\n",
       "    <tr>\n",
       "      <th>176601</th>\n",
       "      <td>`3502103682</td>\n",
       "      <td>1</td>\n",
       "      <td>1</td>\n",
       "    </tr>\n",
       "    <tr>\n",
       "      <th>176602</th>\n",
       "      <td>b00005wz75</td>\n",
       "      <td>1</td>\n",
       "      <td>1</td>\n",
       "    </tr>\n",
       "    <tr>\n",
       "      <th>176603</th>\n",
       "      <td>§423350229</td>\n",
       "      <td>1</td>\n",
       "      <td>1</td>\n",
       "    </tr>\n",
       "    <tr>\n",
       "      <th>176604</th>\n",
       "      <td>´3499128624</td>\n",
       "      <td>1</td>\n",
       "      <td>1</td>\n",
       "    </tr>\n",
       "  </tbody>\n",
       "</table>\n",
       "<p>176605 rows × 3 columns</p>\n",
       "</div>"
      ],
      "text/plain": [
       "                  ISBN  User-ID  Book-Rating\n",
       "0           0330299891        1            1\n",
       "1           0375404120        1            1\n",
       "2           0586045007        1            1\n",
       "3           9022906116        2            2\n",
       "4           9032803328        1            1\n",
       "...                ...      ...          ...\n",
       "176600  \\8804501367\\\"\"        1            1\n",
       "176601     `3502103682        1            1\n",
       "176602      b00005wz75        1            1\n",
       "176603      §423350229        1            1\n",
       "176604     ´3499128624        1            1\n",
       "\n",
       "[176605 rows x 3 columns]"
      ]
     },
     "execution_count": 7,
     "metadata": {},
     "output_type": "execute_result"
    }
   ],
   "source": [
    "ratings_grp = ratings.groupby(by=\"ISBN\",as_index=False).count()\n",
    "ratings_grp"
   ]
  },
  {
   "cell_type": "code",
   "execution_count": 8,
   "id": "c5884cde",
   "metadata": {
    "execution": {
     "iopub.execute_input": "2023-05-22T09:25:55.497206Z",
     "iopub.status.busy": "2023-05-22T09:25:55.496779Z",
     "iopub.status.idle": "2023-05-22T09:25:55.748122Z",
     "shell.execute_reply": "2023-05-22T09:25:55.746992Z"
    },
    "papermill": {
     "duration": 0.262209,
     "end_time": "2023-05-22T09:25:55.750298",
     "exception": false,
     "start_time": "2023-05-22T09:25:55.488089",
     "status": "completed"
    },
    "tags": []
   },
   "outputs": [
    {
     "data": {
      "text/plain": [
       "<AxesSubplot: >"
      ]
     },
     "execution_count": 8,
     "metadata": {},
     "output_type": "execute_result"
    },
    {
     "data": {
      "image/png": "[encoded data removed]",
      "text/plain": [
       "<Figure size 640x480 with 1 Axes>"
      ]
     },
     "metadata": {},
     "output_type": "display_data"
    }
   ],
   "source": [
    "sns.boxplot(ratings_grp['Book-Rating'])\n",
    "# plt.hist(ratings_grp['Book-Rating'],bins=50)"
   ]
  },
  {
   "cell_type": "code",
   "execution_count": 9,
   "id": "d71c396c",
   "metadata": {
    "execution": {
     "iopub.execute_input": "2023-05-22T09:25:55.767623Z",
     "iopub.status.busy": "2023-05-22T09:25:55.766745Z",
     "iopub.status.idle": "2023-05-22T09:25:56.534842Z",
     "shell.execute_reply": "2023-05-22T09:25:56.533772Z"
    },
    "papermill": {
     "duration": 0.779719,
     "end_time": "2023-05-22T09:25:56.537446",
     "exception": false,
     "start_time": "2023-05-22T09:25:55.757727",
     "status": "completed"
    },
    "tags": []
   },
   "outputs": [],
   "source": [
    "ratings = ratings.rename(columns={\"User-ID\":\"userID\",\n",
    "                                  \"ISBN\":\"itemID\",\n",
    "                                  \"Book-Rating\":\"rating\"})\n",
    "ratings['userID'] = ratings['userID'].astype(str)\n",
    "ratings['itemID'] = ratings['itemID'].astype(str)\n",
    "ratings['rating'] = ratings['rating'].astype(int)\n",
    "\n",
    "ratings_grp = ratings.groupby(by=\"itemID\",as_index=False).count()\n",
    "ratings_grp = ratings_grp.loc[ratings_grp.userID > 10, :]\n",
    "ratings = ratings.loc[ratings.itemID.isin(ratings_grp['itemID']),:]\n",
    "\n",
    "ratings_grp2 = ratings.groupby(by=\"userID\",as_index=False).count()\n",
    "ratings_grp2 = ratings_grp2.loc[ratings_grp2.itemID > 10, :]\n",
    "ratings = ratings.loc[ratings.userID.isin(ratings_grp2['userID']),:]"
   ]
  },
  {
   "cell_type": "code",
   "execution_count": 10,
   "id": "99c34720",
   "metadata": {
    "execution": {
     "iopub.execute_input": "2023-05-22T09:25:56.556240Z",
     "iopub.status.busy": "2023-05-22T09:25:56.555805Z",
     "iopub.status.idle": "2023-05-22T09:25:56.562557Z",
     "shell.execute_reply": "2023-05-22T09:25:56.561447Z"
    },
    "papermill": {
     "duration": 0.018131,
     "end_time": "2023-05-22T09:25:56.564627",
     "exception": false,
     "start_time": "2023-05-22T09:25:56.546496",
     "status": "completed"
    },
    "tags": []
   },
   "outputs": [
    {
     "data": {
      "text/plain": [
       "81330"
      ]
     },
     "execution_count": 10,
     "metadata": {},
     "output_type": "execute_result"
    }
   ],
   "source": [
    "len(ratings)"
   ]
  },
  {
   "cell_type": "code",
   "execution_count": 11,
   "id": "95790983",
   "metadata": {
    "execution": {
     "iopub.execute_input": "2023-05-22T09:25:56.582631Z",
     "iopub.status.busy": "2023-05-22T09:25:56.582231Z",
     "iopub.status.idle": "2023-05-22T09:25:56.867512Z",
     "shell.execute_reply": "2023-05-22T09:25:56.866216Z"
    },
    "papermill": {
     "duration": 0.297642,
     "end_time": "2023-05-22T09:25:56.870379",
     "exception": false,
     "start_time": "2023-05-22T09:25:56.572737",
     "status": "completed"
    },
    "tags": []
   },
   "outputs": [
    {
     "data": {
      "text/plain": [
       "(array([3.56e+03, 5.68e+02, 2.27e+02, 8.70e+01, 6.20e+01, 2.30e+01,\n",
       "        2.50e+01, 1.40e+01, 7.00e+00, 7.00e+00, 6.00e+00, 4.00e+00,\n",
       "        1.00e+00, 1.00e+00, 1.00e+00, 0.00e+00, 0.00e+00, 0.00e+00,\n",
       "        1.00e+00, 0.00e+00, 0.00e+00, 0.00e+00, 0.00e+00, 0.00e+00,\n",
       "        0.00e+00, 1.00e+00, 0.00e+00, 0.00e+00, 0.00e+00, 0.00e+00,\n",
       "        0.00e+00, 0.00e+00, 0.00e+00, 0.00e+00, 0.00e+00, 0.00e+00,\n",
       "        0.00e+00, 0.00e+00, 0.00e+00, 0.00e+00, 0.00e+00, 0.00e+00,\n",
       "        0.00e+00, 0.00e+00, 0.00e+00, 0.00e+00, 0.00e+00, 0.00e+00,\n",
       "        0.00e+00, 1.00e+00]),\n",
       " array([ 11.  ,  28.74,  46.48,  64.22,  81.96,  99.7 , 117.44, 135.18,\n",
       "        152.92, 170.66, 188.4 , 206.14, 223.88, 241.62, 259.36, 277.1 ,\n",
       "        294.84, 312.58, 330.32, 348.06, 365.8 , 383.54, 401.28, 419.02,\n",
       "        436.76, 454.5 , 472.24, 489.98, 507.72, 525.46, 543.2 , 560.94,\n",
       "        578.68, 596.42, 614.16, 631.9 , 649.64, 667.38, 685.12, 702.86,\n",
       "        720.6 , 738.34, 756.08, 773.82, 791.56, 809.3 , 827.04, 844.78,\n",
       "        862.52, 880.26, 898.  ]),\n",
       " <BarContainer object of 50 artists>)"
      ]
     },
     "execution_count": 11,
     "metadata": {},
     "output_type": "execute_result"
    },
    {
     "data": {
      "image/png": "[encoded data removed]",
      "text/plain": [
       "<Figure size 640x480 with 1 Axes>"
      ]
     },
     "metadata": {},
     "output_type": "display_data"
    }
   ],
   "source": [
    "plt.hist(ratings_grp['userID'],bins=50)"
   ]
  },
  {
   "cell_type": "code",
   "execution_count": 12,
   "id": "33d3ed66",
   "metadata": {
    "execution": {
     "iopub.execute_input": "2023-05-22T09:25:56.889809Z",
     "iopub.status.busy": "2023-05-22T09:25:56.888936Z",
     "iopub.status.idle": "2023-05-22T09:25:57.927817Z",
     "shell.execute_reply": "2023-05-22T09:25:57.926029Z"
    },
    "papermill": {
     "duration": 1.051668,
     "end_time": "2023-05-22T09:25:57.930468",
     "exception": false,
     "start_time": "2023-05-22T09:25:56.878800",
     "status": "completed"
    },
    "tags": []
   },
   "outputs": [],
   "source": [
    "!mkdir reco_folds"
   ]
  },
  {
   "cell_type": "code",
   "execution_count": 13,
   "id": "ee37084a",
   "metadata": {
    "execution": {
     "iopub.execute_input": "2023-05-22T09:25:57.949244Z",
     "iopub.status.busy": "2023-05-22T09:25:57.948830Z",
     "iopub.status.idle": "2023-05-22T09:25:57.955614Z",
     "shell.execute_reply": "2023-05-22T09:25:57.954692Z"
    },
    "papermill": {
     "duration": 0.018994,
     "end_time": "2023-05-22T09:25:57.957699",
     "exception": false,
     "start_time": "2023-05-22T09:25:57.938705",
     "status": "completed"
    },
    "tags": []
   },
   "outputs": [
    {
     "data": {
      "text/plain": [
       "81330"
      ]
     },
     "execution_count": 13,
     "metadata": {},
     "output_type": "execute_result"
    }
   ],
   "source": [
    "len(ratings)"
   ]
  },
  {
   "cell_type": "code",
   "execution_count": 14,
   "id": "eaa27cff",
   "metadata": {
    "execution": {
     "iopub.execute_input": "2023-05-22T09:25:57.976120Z",
     "iopub.status.busy": "2023-05-22T09:25:57.975715Z",
     "iopub.status.idle": "2023-05-22T09:25:58.899581Z",
     "shell.execute_reply": "2023-05-22T09:25:58.898359Z"
    },
    "papermill": {
     "duration": 0.936192,
     "end_time": "2023-05-22T09:25:58.902173",
     "exception": false,
     "start_time": "2023-05-22T09:25:57.965981",
     "status": "completed"
    },
    "tags": []
   },
   "outputs": [
    {
     "name": "stdout",
     "output_type": "stream",
     "text": [
      "GroupKFold(n_splits=5)\n"
     ]
    }
   ],
   "source": [
    "group_kfold = GroupKFold(n_splits=5)\n",
    "group_kfold.get_n_splits(ratings[['userID','itemID']], ratings['rating'], ratings['userID'])\n",
    "\n",
    "print(group_kfold)\n",
    "train_X = None\n",
    "train_y = None\n",
    "\n",
    "test_X = None\n",
    "test_y = None\n",
    "\n",
    "result_df = pd.DataFrame([])\n",
    "\n",
    "\n",
    "for i, (train_index, test_index) in enumerate(group_kfold.split(ratings[['userID','itemID','rating']], ratings['rating'], ratings['userID'])):\n",
    "    train_X = ratings[['userID','itemID','rating']].iloc[train_index,:]\n",
    "    train_X.to_csv(f\"/kaggle/working/reco_folds/train_X_fold{i}.csv\",index=False, sep=';')\n",
    "    \n",
    "    test_X = ratings[['userID','itemID','rating']].iloc[test_index,:]\n",
    "    test_X.to_csv(f\"/kaggle/working/reco_folds/test_X_fold{i}.csv\",index=False, sep=';')\n",
    "    \n",
    "    "
   ]
  },
  {
   "cell_type": "code",
   "execution_count": 15,
   "id": "61bbca21",
   "metadata": {
    "execution": {
     "iopub.execute_input": "2023-05-22T09:25:58.920968Z",
     "iopub.status.busy": "2023-05-22T09:25:58.920583Z",
     "iopub.status.idle": "2023-05-22T09:25:58.928485Z",
     "shell.execute_reply": "2023-05-22T09:25:58.927224Z"
    },
    "papermill": {
     "duration": 0.020127,
     "end_time": "2023-05-22T09:25:58.930868",
     "exception": false,
     "start_time": "2023-05-22T09:25:58.910741",
     "status": "completed"
    },
    "tags": []
   },
   "outputs": [],
   "source": [
    "from collections import defaultdict\n",
    "\n",
    "from surprise import Dataset, SVD\n",
    "\n",
    "\n",
    "def get_top_n(predictions, n=10):\n",
    "    \"\"\"Return the top-N recommendation for each user from a set of predictions.\n",
    "\n",
    "    Args:\n",
    "        predictions(list of Prediction objects): The list of predictions, as\n",
    "            returned by the test method of an algorithm.\n",
    "        n(int): The number of recommendation to output for each user. Default\n",
    "            is 10.\n",
    "\n",
    "    Returns:\n",
    "    A dict where keys are user (raw) ids and values are lists of tuples:\n",
    "        [(raw item id, rating estimation), ...] of size n.\n",
    "    \"\"\"\n",
    "\n",
    "    # First map the predictions to each user.\n",
    "    top_n = defaultdict(list)\n",
    "    for uid, iid, true_r, est, _ in predictions:\n",
    "        top_n[uid].append((iid, est))\n",
    "\n",
    "    # Then sort the predictions for each user and retrieve the k highest ones.\n",
    "    for uid, user_ratings in top_n.items():\n",
    "        user_ratings.sort(key=lambda x: x[1], reverse=True)\n",
    "        top_n[uid] = user_ratings[:n]\n",
    "\n",
    "    return top_n"
   ]
  },
  {
   "cell_type": "code",
   "execution_count": 16,
   "id": "05eddf07",
   "metadata": {
    "execution": {
     "iopub.execute_input": "2023-05-22T09:25:58.950101Z",
     "iopub.status.busy": "2023-05-22T09:25:58.949261Z",
     "iopub.status.idle": "2023-05-22T09:25:58.959670Z",
     "shell.execute_reply": "2023-05-22T09:25:58.958468Z"
    },
    "papermill": {
     "duration": 0.02252,
     "end_time": "2023-05-22T09:25:58.961979",
     "exception": false,
     "start_time": "2023-05-22T09:25:58.939459",
     "status": "completed"
    },
    "tags": []
   },
   "outputs": [],
   "source": [
    "from collections import defaultdict\n",
    "\n",
    "from surprise import Dataset, SVD\n",
    "from surprise.model_selection import KFold\n",
    "\n",
    "\n",
    "def precision_recall_at_k(predictions, k=10, threshold=3.5):\n",
    "    \"\"\"Return precision and recall at k metrics for each user\"\"\"\n",
    "\n",
    "    # First map the predictions to each user.\n",
    "    user_est_true = defaultdict(list)\n",
    "    for uid, _, true_r, est, _ in predictions:\n",
    "        user_est_true[uid].append((est, true_r))\n",
    "\n",
    "    precisions = dict()\n",
    "    recalls = dict()\n",
    "    for uid, user_ratings in user_est_true.items():\n",
    "\n",
    "        # Sort user ratings by estimated value\n",
    "        user_ratings.sort(key=lambda x: x[0], reverse=True)\n",
    "\n",
    "        # Number of relevant items\n",
    "        n_rel = sum((true_r >= threshold) for (_, true_r) in user_ratings)\n",
    "\n",
    "        # Number of recommended items in top k\n",
    "        n_rec_k = sum((est >= threshold) for (est, _) in user_ratings[:k])\n",
    "\n",
    "        # Number of relevant and recommended items in top k\n",
    "        n_rel_and_rec_k = sum(\n",
    "            ((true_r >= threshold) and (est >= threshold))\n",
    "            for (est, true_r) in user_ratings[:k]\n",
    "        )\n",
    "\n",
    "        # Precision@K: Proportion of recommended items that are relevant\n",
    "        # When n_rec_k is 0, Precision is undefined. We here set it to 0.\n",
    "\n",
    "        precisions[uid] = n_rel_and_rec_k / n_rec_k if n_rec_k != 0 else 0\n",
    "\n",
    "        # Recall@K: Proportion of relevant items that are recommended\n",
    "        # When n_rel is 0, Recall is undefined. We here set it to 0.\n",
    "\n",
    "        recalls[uid] = n_rel_and_rec_k / n_rel if n_rel != 0 else 0\n",
    "\n",
    "    return precisions, recalls"
   ]
  },
  {
   "cell_type": "code",
   "execution_count": 17,
   "id": "059186e6",
   "metadata": {
    "execution": {
     "iopub.execute_input": "2023-05-22T09:25:58.982561Z",
     "iopub.status.busy": "2023-05-22T09:25:58.982046Z",
     "iopub.status.idle": "2023-05-22T09:26:10.387814Z",
     "shell.execute_reply": "2023-05-22T09:26:10.385827Z"
    },
    "papermill": {
     "duration": 11.41959,
     "end_time": "2023-05-22T09:26:10.390402",
     "exception": false,
     "start_time": "2023-05-22T09:25:58.970812",
     "status": "completed"
    },
    "tags": []
   },
   "outputs": [
    {
     "name": "stdout",
     "output_type": "stream",
     "text": [
      "*********** npy_test.shape : (16264, 3)\n",
      " Overlapping test train : 0\n",
      "************* Precision@k : 0.361681772406848\n",
      "************* Recall@k : 0.07794135363724984\n",
      "************* cohen_kappa_score : -0.0003736203172117758\n",
      "************* mean_absolute_error : 3.5786104980152484\n",
      "************* mean_squared_error : 15.991412517934002\n",
      "*********** npy_test.shape : (16264, 3)\n",
      " Overlapping test train : 0\n",
      "************* Precision@k : 0.3481037924151696\n",
      "************* Recall@k : 0.0779066520033062\n",
      "************* cohen_kappa_score : -0.00020046670696127755\n",
      "************* mean_absolute_error : 3.447492379329532\n",
      "************* mean_squared_error : 14.514662383378859\n",
      "*********** npy_test.shape : (16264, 3)\n",
      " Overlapping test train : 0\n",
      "************* Precision@k : 0.33937125748503005\n",
      "************* Recall@k : 0.07127819788404834\n",
      "************* cohen_kappa_score : -0.00020564742285489324\n",
      "************* mean_absolute_error : 3.4394944385166153\n",
      "************* mean_squared_error : 14.582253477929934\n",
      "*********** npy_test.shape : (16264, 3)\n",
      " Overlapping test train : 0\n",
      "************* Precision@k : 0.37375249500998015\n",
      "************* Recall@k : 0.08900874979898103\n",
      "************* cohen_kappa_score : -0.0006987950457402192\n",
      "************* mean_absolute_error : 3.433865975916154\n",
      "************* mean_squared_error : 14.297795287290661\n",
      "*********** npy_test.shape : (16274, 3)\n",
      " Overlapping test train : 0\n",
      "************* Precision@k : 0.39208955223880604\n",
      "************* Recall@k : 0.09184638030326102\n",
      "************* cohen_kappa_score : 0.00014404680511947987\n",
      "************* mean_absolute_error : 3.4567683651417758\n",
      "************* mean_squared_error : 14.738381875133497\n"
     ]
    }
   ],
   "source": [
    "from surprise import accuracy, Dataset, SVD\n",
    "from surprise.model_selection import KFold\n",
    "\n",
    "\n",
    "train_file = \"/kaggle/working/reco_folds/train_X_fold%d.csv\"\n",
    "test_file = \"/kaggle/working/reco_folds/test_X_fold%d.csv\"\n",
    "folds_files = [(train_file % i, test_file % i) for i in (0, 1,2,3,4)]\n",
    "               \n",
    "csv_reader = Reader(line_format='user item rating', sep=\";\", rating_scale=(1, 10), skip_lines =1)\n",
    "data = Dataset.load_from_folds(folds_files, reader=csv_reader)\n",
    "kf = PredefinedKFold()\n",
    "               \n",
    "# define a cross-validation iterator\n",
    "# kf = KFold(n_splits=5)\n",
    "\n",
    "\n",
    "\n",
    "for trainset, testset in kf.split(data):\n",
    "    algo = SVD(n_epochs=100,n_factors=10)\n",
    "#     print(testset)\n",
    "    npy_test = np.array(testset)\n",
    "    print(f\"*********** npy_test.shape : {npy_test.shape}\")\n",
    "    df_test = pd.DataFrame(npy_test,columns=['userID','itemID','rating'])\n",
    "    train_uids = []\n",
    "    for usr in trainset.all_users():\n",
    "#         print(f\"************* to_raw_uid(usr) : {trainset.to_raw_uid(usr)}\")\n",
    "        train_uids.append(trainset.to_raw_uid(usr))\n",
    "    \n",
    "#     npy_train = np.array(trainset)\n",
    "#     print(f\"*********** npy_train.shape : {trainset}\")\n",
    "#     df_train = pd.DataFrame(npy_train,columns=['userID','itemID','rating'])\n",
    "    \n",
    "    print(f\" Overlapping test train : {len(df_test.loc[df_test['userID'].isin(train_uids),:])}\")\n",
    "#     print(f\" Overlapping train test : {len(df_train.loc[df_train['userID'].isin(df_test['userID']),:])}\")\n",
    "#     print(npy)\n",
    "    # train and test algorithm.\n",
    "    algo.fit(trainset)\n",
    "    pred_lst = []\n",
    "    for i in range(len(npy_test)):\n",
    "        predictions = algo.predict(npy_test[i,0],npy_test[i,1])\n",
    "#         print(npy_test[i,2],\" \",predictions[3])\n",
    "        pred_lst.append(predictions[3])\n",
    "        \n",
    "    predictions = algo.test(testset)\n",
    "#     print(predictions)\n",
    "    top_n = get_top_n(predictions, n=10)\n",
    "\n",
    "    # Print the recommended items for each user\n",
    "#     for uid, user_ratings in top_n.items():\n",
    "#         print(uid, [iid for (iid, _) in user_ratings])\n",
    "    \n",
    "    predictions = algo.test(testset)\n",
    "    precisions, recalls = precision_recall_at_k(predictions, k=5, threshold=4)\n",
    "\n",
    "    # Precision and recall can then be averaged over all users\n",
    "    print(\"************* Precision@k :\",sum(prec for prec in precisions.values()) / len(precisions))\n",
    "    print(\"************* Recall@k :\",sum(rec for rec in recalls.values()) / len(recalls))\n",
    "    \n",
    "#     print(f\"************* npy[:,2] : {npy[:,2].astype(float)}\")\n",
    "#     print(f\"************* pred_lst : {pred_lst}\")\n",
    "#     break\n",
    "    print(f\"************* cohen_kappa_score : {cohen_kappa_score(npy_test[:,2].astype(float).astype(int),np.round(pred_lst))}\")\n",
    "    print(f\"************* mean_absolute_error : {mean_absolute_error(npy_test[:,2].astype(float),pred_lst)}\")\n",
    "    print(f\"************* mean_squared_error : {mean_squared_error(npy_test[:,2].astype(float),pred_lst)}\")\n",
    "#     break"
   ]
  },
  {
   "cell_type": "code",
   "execution_count": 18,
   "id": "76498ab7",
   "metadata": {
    "execution": {
     "iopub.execute_input": "2023-05-22T09:26:10.410413Z",
     "iopub.status.busy": "2023-05-22T09:26:10.410004Z",
     "iopub.status.idle": "2023-05-22T09:26:10.422602Z",
     "shell.execute_reply": "2023-05-22T09:26:10.421750Z"
    },
    "papermill": {
     "duration": 0.025059,
     "end_time": "2023-05-22T09:26:10.424670",
     "exception": false,
     "start_time": "2023-05-22T09:26:10.399611",
     "status": "completed"
    },
    "tags": []
   },
   "outputs": [
    {
     "data": {
      "text/html": [
       "<div>\n",
       "<style scoped>\n",
       "    .dataframe tbody tr th:only-of-type {\n",
       "        vertical-align: middle;\n",
       "    }\n",
       "\n",
       "    .dataframe tbody tr th {\n",
       "        vertical-align: top;\n",
       "    }\n",
       "\n",
       "    .dataframe thead th {\n",
       "        text-align: right;\n",
       "    }\n",
       "</style>\n",
       "<table border=\"1\" class=\"dataframe\">\n",
       "  <thead>\n",
       "    <tr style=\"text-align: right;\">\n",
       "      <th></th>\n",
       "      <th>userID</th>\n",
       "      <th>itemID</th>\n",
       "      <th>rating</th>\n",
       "    </tr>\n",
       "  </thead>\n",
       "  <tbody>\n",
       "    <tr>\n",
       "      <th>413</th>\n",
       "      <td>276925</td>\n",
       "      <td>002542730X</td>\n",
       "      <td>10</td>\n",
       "    </tr>\n",
       "    <tr>\n",
       "      <th>422</th>\n",
       "      <td>276925</td>\n",
       "      <td>0151010633</td>\n",
       "      <td>0</td>\n",
       "    </tr>\n",
       "    <tr>\n",
       "      <th>426</th>\n",
       "      <td>276925</td>\n",
       "      <td>0316666343</td>\n",
       "      <td>0</td>\n",
       "    </tr>\n",
       "    <tr>\n",
       "      <th>427</th>\n",
       "      <td>276925</td>\n",
       "      <td>0345391810</td>\n",
       "      <td>0</td>\n",
       "    </tr>\n",
       "    <tr>\n",
       "      <th>429</th>\n",
       "      <td>276925</td>\n",
       "      <td>0385504209</td>\n",
       "      <td>8</td>\n",
       "    </tr>\n",
       "    <tr>\n",
       "      <th>...</th>\n",
       "      <td>...</td>\n",
       "      <td>...</td>\n",
       "      <td>...</td>\n",
       "    </tr>\n",
       "    <tr>\n",
       "      <th>406428</th>\n",
       "      <td>98391</td>\n",
       "      <td>0312284683</td>\n",
       "      <td>9</td>\n",
       "    </tr>\n",
       "    <tr>\n",
       "      <th>406475</th>\n",
       "      <td>98391</td>\n",
       "      <td>0312289723</td>\n",
       "      <td>10</td>\n",
       "    </tr>\n",
       "    <tr>\n",
       "      <th>406544</th>\n",
       "      <td>98391</td>\n",
       "      <td>0312303467</td>\n",
       "      <td>10</td>\n",
       "    </tr>\n",
       "    <tr>\n",
       "      <th>406567</th>\n",
       "      <td>98391</td>\n",
       "      <td>0312305060</td>\n",
       "      <td>8</td>\n",
       "    </tr>\n",
       "    <tr>\n",
       "      <th>406575</th>\n",
       "      <td>98391</td>\n",
       "      <td>0312306326</td>\n",
       "      <td>9</td>\n",
       "    </tr>\n",
       "  </tbody>\n",
       "</table>\n",
       "<p>81330 rows × 3 columns</p>\n",
       "</div>"
      ],
      "text/plain": [
       "        userID      itemID  rating\n",
       "413     276925  002542730X      10\n",
       "422     276925  0151010633       0\n",
       "426     276925  0316666343       0\n",
       "427     276925  0345391810       0\n",
       "429     276925  0385504209       8\n",
       "...        ...         ...     ...\n",
       "406428   98391  0312284683       9\n",
       "406475   98391  0312289723      10\n",
       "406544   98391  0312303467      10\n",
       "406567   98391  0312305060       8\n",
       "406575   98391  0312306326       9\n",
       "\n",
       "[81330 rows x 3 columns]"
      ]
     },
     "execution_count": 18,
     "metadata": {},
     "output_type": "execute_result"
    }
   ],
   "source": [
    "ratings"
   ]
  },
  {
   "cell_type": "code",
   "execution_count": 19,
   "id": "acf5b3e8",
   "metadata": {
    "execution": {
     "iopub.execute_input": "2023-05-22T09:26:10.445578Z",
     "iopub.status.busy": "2023-05-22T09:26:10.444805Z",
     "iopub.status.idle": "2023-05-22T09:26:10.549455Z",
     "shell.execute_reply": "2023-05-22T09:26:10.548266Z"
    },
    "papermill": {
     "duration": 0.11803,
     "end_time": "2023-05-22T09:26:10.552091",
     "exception": false,
     "start_time": "2023-05-22T09:26:10.434061",
     "status": "completed"
    },
    "tags": []
   },
   "outputs": [],
   "source": [
    "# A reader is still needed but only the rating_scale param is requiered.\n",
    "reader = Reader(rating_scale=(1, 10))\n",
    "\n",
    "# The columns must correspond to user id, item id and ratings (in that order).\n",
    "ratings_ds = Dataset.load_from_df(ratings[[\"userID\", \"itemID\", \"rating\"]], reader)"
   ]
  },
  {
   "cell_type": "code",
   "execution_count": 20,
   "id": "8a7e66df",
   "metadata": {
    "execution": {
     "iopub.execute_input": "2023-05-22T09:26:10.572304Z",
     "iopub.status.busy": "2023-05-22T09:26:10.571866Z",
     "iopub.status.idle": "2023-05-22T09:26:12.771273Z",
     "shell.execute_reply": "2023-05-22T09:26:12.769837Z"
    },
    "papermill": {
     "duration": 2.212545,
     "end_time": "2023-05-22T09:26:12.773950",
     "exception": false,
     "start_time": "2023-05-22T09:26:10.561405",
     "status": "completed"
    },
    "tags": []
   },
   "outputs": [
    {
     "data": {
      "text/plain": [
       "<surprise.prediction_algorithms.matrix_factorization.SVD at 0x7c4ccc32ba30>"
      ]
     },
     "execution_count": 20,
     "metadata": {},
     "output_type": "execute_result"
    }
   ],
   "source": [
    "algo = SVD(n_epochs=100,n_factors=10)\n",
    "algo.fit(ratings_ds.build_full_trainset())"
   ]
  },
  {
   "cell_type": "code",
   "execution_count": 21,
   "id": "2789e7ef",
   "metadata": {
    "execution": {
     "iopub.execute_input": "2023-05-22T09:26:12.795790Z",
     "iopub.status.busy": "2023-05-22T09:26:12.795380Z",
     "iopub.status.idle": "2023-05-22T09:26:12.876972Z",
     "shell.execute_reply": "2023-05-22T09:26:12.875649Z"
    },
    "papermill": {
     "duration": 0.095778,
     "end_time": "2023-05-22T09:26:12.879704",
     "exception": false,
     "start_time": "2023-05-22T09:26:12.783926",
     "status": "completed"
    },
    "tags": []
   },
   "outputs": [],
   "source": [
    "import pickle\n",
    "# Open a file and use dump()\n",
    "with open('svd.pkl', 'wb') as file:\n",
    "      \n",
    "    # A new file will be created\n",
    "    pickle.dump(algo, file)"
   ]
  },
  {
   "cell_type": "code",
   "execution_count": 22,
   "id": "bc56d2a2",
   "metadata": {
    "execution": {
     "iopub.execute_input": "2023-05-22T09:26:12.901041Z",
     "iopub.status.busy": "2023-05-22T09:26:12.900613Z",
     "iopub.status.idle": "2023-05-22T09:26:12.907529Z",
     "shell.execute_reply": "2023-05-22T09:26:12.906448Z"
    },
    "papermill": {
     "duration": 0.020014,
     "end_time": "2023-05-22T09:26:12.909607",
     "exception": false,
     "start_time": "2023-05-22T09:26:12.889593",
     "status": "completed"
    },
    "tags": []
   },
   "outputs": [
    {
     "data": {
      "text/plain": [
       "Prediction(uid='276925', iid='002542730X', r_ui=None, est=8.069756656350382, details={'was_impossible': False})"
      ]
     },
     "execution_count": 22,
     "metadata": {},
     "output_type": "execute_result"
    }
   ],
   "source": [
    "result = algo.predict(\"276925\",\"002542730X\")\n",
    "result"
   ]
  },
  {
   "cell_type": "code",
   "execution_count": 23,
   "id": "c736eae9",
   "metadata": {
    "execution": {
     "iopub.execute_input": "2023-05-22T09:26:12.930160Z",
     "iopub.status.busy": "2023-05-22T09:26:12.929765Z",
     "iopub.status.idle": "2023-05-22T09:26:12.935736Z",
     "shell.execute_reply": "2023-05-22T09:26:12.934712Z"
    },
    "papermill": {
     "duration": 0.019043,
     "end_time": "2023-05-22T09:26:12.938044",
     "exception": false,
     "start_time": "2023-05-22T09:26:12.919001",
     "status": "completed"
    },
    "tags": []
   },
   "outputs": [
    {
     "data": {
      "text/plain": [
       "Prediction(uid='276925', iid='002542730X', r_ui=None, est=8.069756656350382, details={'was_impossible': False})"
      ]
     },
     "execution_count": 23,
     "metadata": {},
     "output_type": "execute_result"
    }
   ],
   "source": [
    "result"
   ]
  },
  {
   "cell_type": "code",
   "execution_count": 24,
   "id": "fd6b05a9",
   "metadata": {
    "execution": {
     "iopub.execute_input": "2023-05-22T09:26:12.958595Z",
     "iopub.status.busy": "2023-05-22T09:26:12.958221Z",
     "iopub.status.idle": "2023-05-22T09:26:12.963624Z",
     "shell.execute_reply": "2023-05-22T09:26:12.962972Z"
    },
    "papermill": {
     "duration": 0.018043,
     "end_time": "2023-05-22T09:26:12.965642",
     "exception": false,
     "start_time": "2023-05-22T09:26:12.947599",
     "status": "completed"
    },
    "tags": []
   },
   "outputs": [
    {
     "data": {
      "text/plain": [
       "defaultdict(list,\n",
       "            {'276925': [('002542730X', 8.069756656350382),\n",
       "              ('002542730X', 8.069756656350382)]})"
      ]
     },
     "execution_count": 24,
     "metadata": {},
     "output_type": "execute_result"
    }
   ],
   "source": [
    "result_pred = get_top_n([result,result])\n",
    "result_pred"
   ]
  },
  {
   "cell_type": "code",
   "execution_count": 25,
   "id": "37a8567e",
   "metadata": {
    "execution": {
     "iopub.execute_input": "2023-05-22T09:26:12.986769Z",
     "iopub.status.busy": "2023-05-22T09:26:12.986377Z",
     "iopub.status.idle": "2023-05-22T09:26:12.997976Z",
     "shell.execute_reply": "2023-05-22T09:26:12.996522Z"
    },
    "papermill": {
     "duration": 0.025994,
     "end_time": "2023-05-22T09:26:13.001054",
     "exception": false,
     "start_time": "2023-05-22T09:26:12.975060",
     "status": "completed"
    },
    "tags": []
   },
   "outputs": [
    {
     "data": {
      "text/html": [
       "<div>\n",
       "<style scoped>\n",
       "    .dataframe tbody tr th:only-of-type {\n",
       "        vertical-align: middle;\n",
       "    }\n",
       "\n",
       "    .dataframe tbody tr th {\n",
       "        vertical-align: top;\n",
       "    }\n",
       "\n",
       "    .dataframe thead th {\n",
       "        text-align: right;\n",
       "    }\n",
       "</style>\n",
       "<table border=\"1\" class=\"dataframe\">\n",
       "  <thead>\n",
       "    <tr style=\"text-align: right;\">\n",
       "      <th></th>\n",
       "      <th>0</th>\n",
       "      <th>1</th>\n",
       "    </tr>\n",
       "  </thead>\n",
       "  <tbody>\n",
       "    <tr>\n",
       "      <th>0</th>\n",
       "      <td>002542730X</td>\n",
       "      <td>8.069757</td>\n",
       "    </tr>\n",
       "    <tr>\n",
       "      <th>1</th>\n",
       "      <td>002542730X</td>\n",
       "      <td>8.069757</td>\n",
       "    </tr>\n",
       "  </tbody>\n",
       "</table>\n",
       "</div>"
      ],
      "text/plain": [
       "            0         1\n",
       "0  002542730X  8.069757\n",
       "1  002542730X  8.069757"
      ]
     },
     "execution_count": 25,
     "metadata": {},
     "output_type": "execute_result"
    }
   ],
   "source": [
    "pd.DataFrame(result_pred[\"276925\"])"
   ]
  }
 ],
 "metadata": {
  "kernelspec": {
   "display_name": "Python 3",
   "language": "python",
   "name": "python3"
  },
  "language_info": {
   "codemirror_mode": {
    "name": "ipython",
    "version": 3
   },
   "file_extension": ".py",
   "mimetype": "text/x-python",
   "name": "python",
   "nbconvert_exporter": "python",
   "pygments_lexer": "ipython3",
   "version": "3.10.10"
  },
  "papermill": {
   "default_parameters": {},
   "duration": 45.79171,
   "end_time": "2023-05-22T09:26:14.138291",
   "environment_variables": {},
   "exception": null,
   "input_path": "__notebook__.ipynb",
   "output_path": "__notebook__.ipynb",
   "parameters": {},
   "start_time": "2023-05-22T09:25:28.346581",
   "version": "2.4.0"
  }
 },
 "nbformat": 4,
 "nbformat_minor": 5
}
