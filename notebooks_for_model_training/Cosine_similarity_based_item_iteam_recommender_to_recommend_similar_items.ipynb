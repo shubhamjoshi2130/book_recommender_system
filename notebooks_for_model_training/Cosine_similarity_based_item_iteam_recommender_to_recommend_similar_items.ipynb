{
 "cells": [
  {
   "cell_type": "code",
   "execution_count": 1,
   "id": "eedfbdb2",
   "metadata": {
    "execution": {
     "iopub.execute_input": "2023-05-24T08:38:43.741851Z",
     "iopub.status.busy": "2023-05-24T08:38:43.740441Z",
     "iopub.status.idle": "2023-05-24T08:38:58.632066Z",
     "shell.execute_reply": "2023-05-24T08:38:58.630617Z"
    },
    "papermill": {
     "duration": 14.901569,
     "end_time": "2023-05-24T08:38:58.635438",
     "exception": false,
     "start_time": "2023-05-24T08:38:43.733869",
     "status": "completed"
    },
    "tags": []
   },
   "outputs": [
    {
     "name": "stdout",
     "output_type": "stream",
     "text": [
      "Collecting efficient-apriori\r\n",
      "  Downloading efficient_apriori-2.0.3-py3-none-any.whl (14 kB)\r\n",
      "Installing collected packages: efficient-apriori\r\n",
      "Successfully installed efficient-apriori-2.0.3\r\n",
      "\u001b[33mWARNING: Running pip as the 'root' user can result in broken permissions and conflicting behaviour with the system package manager. It is recommended to use a virtual environment instead: https://pip.pypa.io/warnings/venv\u001b[0m\u001b[33m\r\n",
      "\u001b[0m"
     ]
    }
   ],
   "source": [
    "!pip install efficient-apriori"
   ]
  },
  {
   "cell_type": "code",
   "execution_count": 2,
   "id": "8a50d32e",
   "metadata": {
    "execution": {
     "iopub.execute_input": "2023-05-24T08:38:58.647554Z",
     "iopub.status.busy": "2023-05-24T08:38:58.647102Z",
     "iopub.status.idle": "2023-05-24T08:38:58.651861Z",
     "shell.execute_reply": "2023-05-24T08:38:58.650714Z"
    },
    "papermill": {
     "duration": 0.013989,
     "end_time": "2023-05-24T08:38:58.654433",
     "exception": false,
     "start_time": "2023-05-24T08:38:58.640444",
     "status": "completed"
    },
    "tags": []
   },
   "outputs": [],
   "source": [
    "# i = 8\n",
    "# j = 9\n",
    "# i + j"
   ]
  },
  {
   "cell_type": "code",
   "execution_count": 3,
   "id": "b02965d8",
   "metadata": {
    "execution": {
     "iopub.execute_input": "2023-05-24T08:38:58.665967Z",
     "iopub.status.busy": "2023-05-24T08:38:58.665555Z",
     "iopub.status.idle": "2023-05-24T08:39:00.494778Z",
     "shell.execute_reply": "2023-05-24T08:39:00.493560Z"
    },
    "papermill": {
     "duration": 1.838481,
     "end_time": "2023-05-24T08:39:00.497729",
     "exception": false,
     "start_time": "2023-05-24T08:38:58.659248",
     "status": "completed"
    },
    "tags": []
   },
   "outputs": [
    {
     "name": "stderr",
     "output_type": "stream",
     "text": [
      "/opt/conda/lib/python3.10/site-packages/scipy/__init__.py:146: UserWarning: A NumPy version >=1.16.5 and <1.23.0 is required for this version of SciPy (detected version 1.23.5\n",
      "  warnings.warn(f\"A NumPy version >={np_minversion} and <{np_maxversion}\"\n"
     ]
    }
   ],
   "source": [
    "import pandas as pd\n",
    "# import seaborn as sns\n",
    "from matplotlib import pyplot as plt\n",
    "import matplotlib\n",
    "import numpy as np\n",
    "\n",
    "from sklearn.model_selection import GroupKFold\n",
    "from surprise.model_selection import PredefinedKFold\n",
    "# from scipy.stats import permutation_test\n",
    "from sklearn.model_selection import train_test_split\n",
    "from surprise import Dataset, SVD\n",
    "from surprise import Dataset, NormalPredictor, Reader\n",
    "from surprise.model_selection import cross_validate\n",
    "from sklearn import preprocessing\n",
    "import seaborn as sns\n",
    "from sklearn.metrics import cohen_kappa_score, mean_absolute_error , mean_squared_error\n",
    "from efficient_apriori import apriori\n",
    "import pickle"
   ]
  },
  {
   "cell_type": "code",
   "execution_count": 4,
   "id": "a99ec265",
   "metadata": {
    "execution": {
     "iopub.execute_input": "2023-05-24T08:39:00.509478Z",
     "iopub.status.busy": "2023-05-24T08:39:00.509022Z",
     "iopub.status.idle": "2023-05-24T08:39:01.208242Z",
     "shell.execute_reply": "2023-05-24T08:39:01.206983Z"
    },
    "papermill": {
     "duration": 0.708795,
     "end_time": "2023-05-24T08:39:01.211445",
     "exception": false,
     "start_time": "2023-05-24T08:39:00.502650",
     "status": "completed"
    },
    "tags": []
   },
   "outputs": [],
   "source": [
    "ratings = pd.read_csv(\"/kaggle/input/bookrecommender/BX-Book-Ratings.csv\",encoding='ISO-8859–1',delimiter=\";\")\n",
    "# books = pd.read_csv(\"BX-Books_small.csv\",encoding='ISO-8859–1',delimiter=\";\")\n",
    "# users = pd.read_csv(\"/kaggle/input/bookrecommender/BX-Users.csv\",encoding='ISO-8859–1',delimiter=\";\")"
   ]
  },
  {
   "cell_type": "code",
   "execution_count": 5,
   "id": "2a2359b7",
   "metadata": {
    "execution": {
     "iopub.execute_input": "2023-05-24T08:39:01.223361Z",
     "iopub.status.busy": "2023-05-24T08:39:01.222815Z",
     "iopub.status.idle": "2023-05-24T08:39:01.256675Z",
     "shell.execute_reply": "2023-05-24T08:39:01.255345Z"
    },
    "papermill": {
     "duration": 0.045623,
     "end_time": "2023-05-24T08:39:01.261877",
     "exception": false,
     "start_time": "2023-05-24T08:39:01.216254",
     "status": "completed"
    },
    "tags": []
   },
   "outputs": [
    {
     "data": {
      "text/plain": [
       "38207"
      ]
     },
     "execution_count": 5,
     "metadata": {},
     "output_type": "execute_result"
    }
   ],
   "source": [
    "len(ratings['User-ID'].unique())"
   ]
  },
  {
   "cell_type": "code",
   "execution_count": 6,
   "id": "5ca19159",
   "metadata": {
    "execution": {
     "iopub.execute_input": "2023-05-24T08:39:01.276773Z",
     "iopub.status.busy": "2023-05-24T08:39:01.275650Z",
     "iopub.status.idle": "2023-05-24T08:39:02.501797Z",
     "shell.execute_reply": "2023-05-24T08:39:02.500760Z"
    },
    "papermill": {
     "duration": 1.235746,
     "end_time": "2023-05-24T08:39:02.504418",
     "exception": false,
     "start_time": "2023-05-24T08:39:01.268672",
     "status": "completed"
    },
    "tags": []
   },
   "outputs": [
    {
     "name": "stdout",
     "output_type": "stream",
     "text": [
      "******** rating 1 : 117035\n",
      "******** rating 1 : 81330\n"
     ]
    }
   ],
   "source": [
    "ratings = ratings.rename(columns={\"User-ID\":\"user_id\",\n",
    "                                  \"ISBN\":\"isbn\",\n",
    "                                  \"Book-Rating\":\"book_rating\"})\n",
    "ratings['user_id'] = ratings['user_id'].astype(str)\n",
    "ratings['isbn'] = ratings['isbn'].astype(str)\n",
    "ratings['book_rating'] = ratings['book_rating'].astype(int)\n",
    "\n",
    "ratings_grp = ratings.groupby(by=\"isbn\",as_index=False).count()\n",
    "ratings_grp = ratings_grp.loc[ratings_grp.user_id > 10, :]\n",
    "ratings = ratings.loc[ratings.isbn.isin(ratings_grp['isbn']),:]\n",
    "print(f\"******** rating 1 : {len(ratings)}\")\n",
    "\n",
    "ratings_grp2 = ratings.groupby(by=\"user_id\",as_index=False).count()\n",
    "ratings_grp2 = ratings_grp2.loc[ratings_grp2.isbn > 10, :]\n",
    "ratings = ratings.loc[ratings.user_id.isin(ratings_grp2['user_id']),:]\n",
    "print(f\"******** rating 1 : {len(ratings)}\")"
   ]
  },
  {
   "cell_type": "code",
   "execution_count": 7,
   "id": "cd44e3d2",
   "metadata": {
    "execution": {
     "iopub.execute_input": "2023-05-24T08:39:02.516956Z",
     "iopub.status.busy": "2023-05-24T08:39:02.516267Z",
     "iopub.status.idle": "2023-05-24T08:39:02.811824Z",
     "shell.execute_reply": "2023-05-24T08:39:02.810295Z"
    },
    "papermill": {
     "duration": 0.305446,
     "end_time": "2023-05-24T08:39:02.815030",
     "exception": false,
     "start_time": "2023-05-24T08:39:02.509584",
     "status": "completed"
    },
    "tags": []
   },
   "outputs": [],
   "source": [
    "pt = ratings.pivot_table(index=\"isbn\",columns=\"user_id\",values=\"book_rating\").fillna(0)"
   ]
  },
  {
   "cell_type": "code",
   "execution_count": 8,
   "id": "8c3b4aa9",
   "metadata": {
    "execution": {
     "iopub.execute_input": "2023-05-24T08:39:02.827976Z",
     "iopub.status.busy": "2023-05-24T08:39:02.827523Z",
     "iopub.status.idle": "2023-05-24T08:39:02.832327Z",
     "shell.execute_reply": "2023-05-24T08:39:02.831420Z"
    },
    "papermill": {
     "duration": 0.014349,
     "end_time": "2023-05-24T08:39:02.834749",
     "exception": false,
     "start_time": "2023-05-24T08:39:02.820400",
     "status": "completed"
    },
    "tags": []
   },
   "outputs": [],
   "source": [
    "from sklearn.metrics.pairwise import cosine_similarity"
   ]
  },
  {
   "cell_type": "code",
   "execution_count": 9,
   "id": "45402e77",
   "metadata": {
    "execution": {
     "iopub.execute_input": "2023-05-24T08:39:02.847509Z",
     "iopub.status.busy": "2023-05-24T08:39:02.846827Z",
     "iopub.status.idle": "2023-05-24T08:39:03.596600Z",
     "shell.execute_reply": "2023-05-24T08:39:03.594911Z"
    },
    "papermill": {
     "duration": 0.761544,
     "end_time": "2023-05-24T08:39:03.601612",
     "exception": false,
     "start_time": "2023-05-24T08:39:02.840068",
     "status": "completed"
    },
    "tags": []
   },
   "outputs": [],
   "source": [
    "cosin_simi = cosine_similarity(pt)"
   ]
  },
  {
   "cell_type": "code",
   "execution_count": 10,
   "id": "de809628",
   "metadata": {
    "execution": {
     "iopub.execute_input": "2023-05-24T08:39:03.632925Z",
     "iopub.status.busy": "2023-05-24T08:39:03.632349Z",
     "iopub.status.idle": "2023-05-24T08:39:05.645401Z",
     "shell.execute_reply": "2023-05-24T08:39:05.644075Z"
    },
    "papermill": {
     "duration": 2.034765,
     "end_time": "2023-05-24T08:39:05.648559",
     "exception": false,
     "start_time": "2023-05-24T08:39:03.613794",
     "status": "completed"
    },
    "tags": []
   },
   "outputs": [],
   "source": [
    "simi_matrix = pd.DataFrame(cosin_simi,columns=pt.index.tolist(),index=pt.index.tolist())\n",
    "item_item_matrix = pd.DataFrame(simi_matrix.unstack(),columns=['rating']).reset_index()\n",
    "item_item_matrix.columns = [\"book_id1\",\"book_id2\",\"rating\"]"
   ]
  }
 ],
 "metadata": {
  "kernelspec": {
   "display_name": "Python 3",
   "language": "python",
   "name": "python3"
  },
  "language_info": {
   "codemirror_mode": {
    "name": "ipython",
    "version": 3
   },
   "file_extension": ".py",
   "mimetype": "text/x-python",
   "name": "python",
   "nbconvert_exporter": "python",
   "pygments_lexer": "ipython3",
   "version": "3.10.10"
  },
  "papermill": {
   "default_parameters": {},
   "duration": 35.854139,
   "end_time": "2023-05-24T08:39:06.878878",
   "environment_variables": {},
   "exception": null,
   "input_path": "__notebook__.ipynb",
   "output_path": "__notebook__.ipynb",
   "parameters": {},
   "start_time": "2023-05-24T08:38:31.024739",
   "version": "2.4.0"
  }
 },
 "nbformat": 4,
 "nbformat_minor": 5
}
